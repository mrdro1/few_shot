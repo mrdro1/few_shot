{
 "cells": [
  {
   "cell_type": "markdown",
   "metadata": {},
   "source": [
    "# Загрузка данных"
   ]
  },
  {
   "cell_type": "code",
   "execution_count": 1,
   "metadata": {},
   "outputs": [],
   "source": [
    "import json\n",
    "import re\n",
    "from joblib import delayed, Parallel\n",
    "\n",
    "from razdel import sentenize, tokenize\n",
    "from bpe import Encoder\n",
    "import seaborn as sns\n",
    "import matplotlib.pyplot as plt\n",
    "from tqdm import tqdm_notebook as tqdm\n",
    "import pandas as pd\n",
    "import numpy as np\n",
    "import traceback"
   ]
  },
  {
   "cell_type": "code",
   "execution_count": 2,
   "metadata": {},
   "outputs": [],
   "source": [
    "def tokenize_(text):\n",
    "    tokens = tokenize(text)\n",
    "    return [_.text for _ in tokens]\n",
    "    \n",
    "def remove_tags(text):\n",
    "    text  = re.sub(\"<.*?>\", \"\", text).replace('\\n', ' ').replace('&nbsp;', ' ').replace('&mdash;', ' ')\n",
    "    return text"
   ]
  },
  {
   "cell_type": "code",
   "execution_count": 3,
   "metadata": {},
   "outputs": [],
   "source": [
    "df = pd.read_csv('data/lenta.csv')\n",
    "df['title'] = df['title'].apply(lambda x: str(x).replace('\\xa0', ' '))\n",
    "df['full_text'] = df['title'].map(lambda x: str(x) + ' ') + \\\n",
    "                df['text'].map(lambda x: str(x).replace('\\n', ' '))\n",
    "df[['full_text', 'tags']].to_csv('data/lenta_text.txt', index=False, sep='|')"
   ]
  },
  {
   "cell_type": "code",
   "execution_count": 4,
   "metadata": {},
   "outputs": [],
   "source": [
    "VOCAB_SIZE = 30000\n",
    "encoder = Encoder(VOCAB_SIZE, word_tokenizer=tokenize_) \n",
    "encoder = encoder.load('bpe_enc')"
   ]
  },
  {
   "cell_type": "code",
   "execution_count": 8,
   "metadata": {},
   "outputs": [],
   "source": [
    "tags = df['tags'].value_counts()\n",
    "tags = tags[tags>100]\n",
    "tags = tags[tags<34_000].map(str)\n",
    "with open('data/tags.txt', 'w', encoding='UTF-8') as f:\n",
    "    f.write('\\n'.join(tags.index.tolist()))\n",
    "    \n",
    "tags = tags.index.tolist()"
   ]
  },
  {
   "cell_type": "code",
   "execution_count": 5,
   "metadata": {},
   "outputs": [],
   "source": [
    "topics = df['topic'].value_counts()\n",
    "topics = topics[topics>100]\n",
    "topics = topics.index.tolist()"
   ]
  },
  {
   "cell_type": "markdown",
   "metadata": {},
   "source": [
    "# Модель"
   ]
  },
  {
   "cell_type": "code",
   "execution_count": 6,
   "metadata": {},
   "outputs": [],
   "source": [
    "import tensorflow as tf"
   ]
  },
  {
   "cell_type": "code",
   "execution_count": 7,
   "metadata": {},
   "outputs": [],
   "source": [
    "maxlen = 60\n",
    "\n",
    "def gen_train(df_params):\n",
    "#     df_params = df_params.sample(frac=1)\n",
    "    texts = df_params['full_text'].values\n",
    "    y = df_params['topic'].values\n",
    "    for line, label in zip(texts, y):\n",
    "        try:\n",
    "            idxs = list(encoder.transform([line.strip()]))[0]\n",
    "        except:\n",
    "            print(traceback.format_exc())\n",
    "            continue\n",
    "        len_idxs = len(idxs)\n",
    "        if len_idxs<maxlen:\n",
    "            idxs = idxs + [0]*(maxlen-len_idxs)\n",
    "        c_step = len_idxs//maxlen\n",
    "        label = topics.index(label)\n",
    "        #for i in range(c_step):\n",
    "        yield idxs[:maxlen], maxlen, label\n",
    "\n",
    "\n",
    "def parser(input_seq, len_seq, y):\n",
    "    return {'input_seq':input_seq, 'len_seq': len_seq}, y\n",
    "\n",
    "\n",
    "def input_fn(df, params, is_training):\n",
    "    dataset = tf.data.Dataset.from_generator(lambda: gen_train(df),\n",
    "                                             (tf.int64,tf.int64,tf.int64),\n",
    "                                              output_shapes=(tf.TensorShape([None]), \n",
    "                                                             tf.TensorShape([]),\n",
    "                                                            tf.TensorShape([])))\n",
    "    if is_training:\n",
    "        dataset = dataset.repeat(count=params['num_epochs'])\n",
    "        dataset = dataset.shuffle(params['buffer_size'])\n",
    "    dataset = dataset.batch(params['batch_size'])\n",
    "    dataset = dataset.map(parser)\n",
    "    return dataset.make_one_shot_iterator().get_next()\n"
   ]
  },
  {
   "cell_type": "code",
   "execution_count": 8,
   "metadata": {},
   "outputs": [],
   "source": [
    "# encoder\n",
    "def build_model(features, params, is_training):\n",
    "    \n",
    "    # Embedding matrix\n",
    "    bpe_emb_matrix = tf.get_variable('bpe_embedding_matrix',\n",
    "                                 shape=[params['vocab_size'], params['emb_size']],\n",
    "                                 dtype=tf.float32,\n",
    "                                    trainable=params['trainable_emb'])\n",
    "\n",
    "    def encode(x):\n",
    "        # embedding\n",
    "        embs = tf.nn.embedding_lookup(bpe_emb_matrix, x['input_seq'])\n",
    "        # dropout\n",
    "        dropout_emb = tf.layers.dropout(inputs=embs, \n",
    "                                        rate=0.1, \n",
    "                                        training=is_training)\n",
    "        # lstm\n",
    "        lstm_cell_1 = tf.nn.rnn_cell.GRUCell(250)\n",
    "        outputs, final_states = tf.nn.dynamic_rnn(\n",
    "            lstm_cell_1, dropout_emb, sequence_length=x['len_seq'], dtype=tf.float32)\n",
    "\n",
    "        \n",
    "        max_pool = tf.reduce_max(input_tensor=outputs, axis=1)\n",
    "        mean_pool = tf.reduce_mean(input_tensor=outputs, axis=1)\n",
    "        concat_pools = tf.concat((mean_pool, max_pool, final_states),1)\n",
    "        \n",
    "        \n",
    "        \n",
    "        return concat_pools\n",
    "\n",
    "    \n",
    "    with tf.variable_scope('encoder'):\n",
    "        logits = encode(features)\n",
    "    \n",
    "    return logits\n"
   ]
  },
  {
   "cell_type": "code",
   "execution_count": 9,
   "metadata": {
    "scrolled": true
   },
   "outputs": [],
   "source": [
    "def model_fn(features, labels, mode, params):\n",
    "    \n",
    "    is_training = (mode == tf.estimator.ModeKeys.TRAIN)\n",
    "    \n",
    "    with tf.variable_scope('model'):\n",
    "        concat_pools = build_model(features, params, is_training)\n",
    "    \n",
    "    if params['do_transferlearning']:\n",
    "        keys = ['model/encoder']\n",
    "        tf.train.init_from_checkpoint('ckpt/ulmfit_st2_experiment_15/', {k+'/': k+'/' for k in keys})\n",
    "    \n",
    "        \n",
    "    dropout_pools = tf.layers.dropout(inputs=concat_pools, \n",
    "                                        rate=0.1, \n",
    "                                        training=is_training)\n",
    "    dense = tf.layers.dense(dropout_pools, 100)\n",
    "    dropout_dense = tf.layers.dropout(inputs=dense, \n",
    "                                    rate=0.1, \n",
    "                                    training=is_training)\n",
    "    logits = tf.layers.dense(dropout_dense, params['num_classes'])\n",
    "    if mode == tf.estimator.ModeKeys.PREDICT:\n",
    "        class_nums = tf.argmax(logits,1)\n",
    "        probas = tf.nn.softmax(logits)\n",
    "        predictions = {'y':class_nums, 'probas':probas}\n",
    "        return tf.estimator.EstimatorSpec(mode, predictions=predictions)\n",
    "    \n",
    "    loss_clf = tf.losses.sparse_softmax_cross_entropy(labels, logits)\n",
    "    \n",
    "    global_step = tf.train.get_global_step()\n",
    "    train_op = tf.train.AdamOptimizer(learning_rate=0.001).minimize(loss_clf, global_step)\n",
    "\n",
    "    \n",
    "    return tf.estimator.EstimatorSpec(mode, loss=loss_clf, train_op=train_op)\n",
    "\n"
   ]
  },
  {
   "cell_type": "code",
   "execution_count": 10,
   "metadata": {},
   "outputs": [],
   "source": [
    "def get_estimator(count_samples):\n",
    "    tf.reset_default_graph()\n",
    "\n",
    "    model_dir = f'ckpt/08_ulmfit_clf_experiment_{count_samples}'\n",
    "\n",
    "\n",
    "    config = tf.estimator.RunConfig(tf_random_seed=123,\n",
    "                                    model_dir=model_dir,\n",
    "                                    save_summary_steps=5,\n",
    "                                   save_checkpoints_steps=1000)\n",
    "\n",
    "    estimator = tf.estimator.Estimator(model_fn,\n",
    "                                       params=model_params,\n",
    "                                       config=config)\n",
    "    return estimator"
   ]
  },
  {
   "cell_type": "code",
   "execution_count": 11,
   "metadata": {},
   "outputs": [],
   "source": [
    "def get_data(c_samples, mode='train', label_col='tags', labels=None):\n",
    "    dfs = []\n",
    "    for label in labels:\n",
    "        if mode == 'train':\n",
    "            tmp_df = df[df[label_col]==label][:c_samples]\n",
    "        elif mode == 'half_train':\n",
    "            tmp_df = df[df[label_col]==label]\n",
    "            tmp_df = tmp_df[:len(tmp_df)//2]\n",
    "        elif mode == 'half_test':\n",
    "            tmp_df = df[df[label_col]==label]\n",
    "            tmp_df = tmp_df[len(tmp_df)//2:len(tmp_df)//2 + 20]\n",
    "        else:\n",
    "            tmp_df = df[df[label_col]==label][100:120]\n",
    "        dfs.append(tmp_df)\n",
    "    return pd.concat(dfs)\n",
    "       \n",
    "from sklearn.metrics import roc_auc_score\n",
    "def mean_roc_auc(y_true, y_pred, class_list=None):\n",
    "    y = np.array(y_true.copy())\n",
    "    probas = np.array(y_pred.copy())\n",
    "    rs = []\n",
    "    for i in range(len(class_list)):\n",
    "        r = roc_auc_score((y==i).astype(int), probas[:, i])\n",
    "        rs.append(r)\n",
    "    return np.mean(rs)"
   ]
  },
  {
   "cell_type": "code",
   "execution_count": 12,
   "metadata": {
    "scrolled": true
   },
   "outputs": [
    {
     "name": "stdout",
     "output_type": "stream",
     "text": [
      "90 1\n",
      "INFO:tensorflow:Using config: {'_model_dir': 'ckpt/08_ulmfit_clf_experiment_5', '_tf_random_seed': 123, '_save_summary_steps': 5, '_save_checkpoints_steps': 1000, '_save_checkpoints_secs': None, '_session_config': allow_soft_placement: true\n",
      "graph_options {\n",
      "  rewrite_options {\n",
      "    meta_optimizer_iterations: ONE\n",
      "  }\n",
      "}\n",
      ", '_keep_checkpoint_max': 5, '_keep_checkpoint_every_n_hours': 10000, '_log_step_count_steps': 100, '_train_distribute': None, '_device_fn': None, '_protocol': None, '_eval_distribute': None, '_experimental_distribute': None, '_service': None, '_cluster_spec': <tensorflow.python.training.server_lib.ClusterSpec object at 0x00000273893C2EB8>, '_task_type': 'worker', '_task_id': 0, '_global_id_in_cluster': 0, '_master': '', '_evaluation_master': '', '_is_chief': True, '_num_ps_replicas': 0, '_num_worker_replicas': 1}\n",
      "WARNING:tensorflow:From C:\\Users\\mrdro\\AppData\\Local\\Continuum\\anaconda3\\lib\\site-packages\\tensorflow\\python\\framework\\op_def_library.py:263: colocate_with (from tensorflow.python.framework.ops) is deprecated and will be removed in a future version.\n",
      "Instructions for updating:\n",
      "Colocations handled automatically by placer.\n",
      "WARNING:tensorflow:From C:\\Users\\mrdro\\AppData\\Local\\Continuum\\anaconda3\\lib\\site-packages\\tensorflow\\python\\data\\ops\\dataset_ops.py:429: py_func (from tensorflow.python.ops.script_ops) is deprecated and will be removed in a future version.\n",
      "Instructions for updating:\n",
      "tf.py_func is deprecated in TF V2. Instead, use\n",
      "    tf.py_function, which takes a python function which manipulates tf eager\n",
      "    tensors instead of numpy arrays. It's easy to convert a tf eager tensor to\n",
      "    an ndarray (just call tensor.numpy()) but having access to eager tensors\n",
      "    means `tf.py_function`s can use accelerators such as GPUs as well as\n",
      "    being differentiable using a gradient tape.\n",
      "    \n",
      "INFO:tensorflow:Calling model_fn.\n",
      "WARNING:tensorflow:From <ipython-input-8-e382d5f227a2>:16: dropout (from tensorflow.python.layers.core) is deprecated and will be removed in a future version.\n",
      "Instructions for updating:\n",
      "Use keras.layers.dropout instead.\n",
      "WARNING:tensorflow:From C:\\Users\\mrdro\\AppData\\Local\\Continuum\\anaconda3\\lib\\site-packages\\tensorflow\\python\\keras\\layers\\core.py:143: calling dropout (from tensorflow.python.ops.nn_ops) with keep_prob is deprecated and will be removed in a future version.\n",
      "Instructions for updating:\n",
      "Please use `rate` instead of `keep_prob`. Rate should be set to `rate = 1 - keep_prob`.\n",
      "WARNING:tensorflow:From <ipython-input-8-e382d5f227a2>:18: GRUCell.__init__ (from tensorflow.python.ops.rnn_cell_impl) is deprecated and will be removed in a future version.\n",
      "Instructions for updating:\n",
      "This class is equivalent as tf.keras.layers.GRUCell, and will be replaced by that in Tensorflow 2.0.\n",
      "WARNING:tensorflow:From <ipython-input-8-e382d5f227a2>:20: dynamic_rnn (from tensorflow.python.ops.rnn) is deprecated and will be removed in a future version.\n",
      "Instructions for updating:\n",
      "Please use `keras.layers.RNN(cell)`, which is equivalent to this API\n",
      "WARNING:tensorflow:From C:\\Users\\mrdro\\AppData\\Local\\Continuum\\anaconda3\\lib\\site-packages\\tensorflow\\python\\ops\\rnn.py:626: to_int32 (from tensorflow.python.ops.math_ops) is deprecated and will be removed in a future version.\n",
      "Instructions for updating:\n",
      "Use tf.cast instead.\n",
      "WARNING:tensorflow:From <ipython-input-9-d99acf95b42f>:16: dense (from tensorflow.python.layers.core) is deprecated and will be removed in a future version.\n",
      "Instructions for updating:\n",
      "Use keras.layers.dense instead.\n",
      "WARNING:tensorflow:From C:\\Users\\mrdro\\AppData\\Local\\Continuum\\anaconda3\\lib\\site-packages\\tensorflow\\python\\ops\\losses\\losses_impl.py:209: to_float (from tensorflow.python.ops.math_ops) is deprecated and will be removed in a future version.\n",
      "Instructions for updating:\n",
      "Use tf.cast instead.\n",
      "WARNING:tensorflow:From C:\\Users\\mrdro\\AppData\\Local\\Continuum\\anaconda3\\lib\\site-packages\\tensorflow\\python\\ops\\math_grad.py:102: div (from tensorflow.python.ops.math_ops) is deprecated and will be removed in a future version.\n",
      "Instructions for updating:\n",
      "Deprecated in favor of operator or tf.math.divide.\n",
      "INFO:tensorflow:Done calling model_fn.\n",
      "INFO:tensorflow:Create CheckpointSaverHook.\n",
      "INFO:tensorflow:Graph was finalized.\n",
      "INFO:tensorflow:Running local_init_op.\n",
      "INFO:tensorflow:Done running local_init_op.\n",
      "INFO:tensorflow:Saving checkpoints for 0 into ckpt/08_ulmfit_clf_experiment_5\\model.ckpt.\n",
      "INFO:tensorflow:loss = 3.0725465, step = 1\n",
      "INFO:tensorflow:Saving checkpoints for 3 into ckpt/08_ulmfit_clf_experiment_5\\model.ckpt.\n",
      "INFO:tensorflow:Loss for final step: 3.374268.\n"
     ]
    },
    {
     "data": {
      "application/vnd.jupyter.widget-view+json": {
       "model_id": "6e13fcde81e4467081bf49295d5653c3",
       "version_major": 2,
       "version_minor": 0
      },
      "text/plain": [
       "HBox(children=(IntProgress(value=1, bar_style='info', max=1), HTML(value='')))"
      ]
     },
     "metadata": {},
     "output_type": "display_data"
    },
    {
     "name": "stdout",
     "output_type": "stream",
     "text": [
      "INFO:tensorflow:Calling model_fn.\n",
      "INFO:tensorflow:Done calling model_fn.\n",
      "INFO:tensorflow:Graph was finalized.\n",
      "WARNING:tensorflow:From C:\\Users\\mrdro\\AppData\\Local\\Continuum\\anaconda3\\lib\\site-packages\\tensorflow\\python\\training\\saver.py:1266: checkpoint_exists (from tensorflow.python.training.checkpoint_management) is deprecated and will be removed in a future version.\n",
      "Instructions for updating:\n",
      "Use standard file APIs to check for files with this prefix.\n",
      "INFO:tensorflow:Restoring parameters from ckpt/08_ulmfit_clf_experiment_5\\model.ckpt-3\n",
      "INFO:tensorflow:Running local_init_op.\n",
      "INFO:tensorflow:Done running local_init_op.\n",
      "\n",
      "5 0.5156459489983617\n",
      "180 1\n",
      "INFO:tensorflow:Using config: {'_model_dir': 'ckpt/08_ulmfit_clf_experiment_10', '_tf_random_seed': 123, '_save_summary_steps': 5, '_save_checkpoints_steps': 1000, '_save_checkpoints_secs': None, '_session_config': allow_soft_placement: true\n",
      "graph_options {\n",
      "  rewrite_options {\n",
      "    meta_optimizer_iterations: ONE\n",
      "  }\n",
      "}\n",
      ", '_keep_checkpoint_max': 5, '_keep_checkpoint_every_n_hours': 10000, '_log_step_count_steps': 100, '_train_distribute': None, '_device_fn': None, '_protocol': None, '_eval_distribute': None, '_experimental_distribute': None, '_service': None, '_cluster_spec': <tensorflow.python.training.server_lib.ClusterSpec object at 0x000002739F858BE0>, '_task_type': 'worker', '_task_id': 0, '_global_id_in_cluster': 0, '_master': '', '_evaluation_master': '', '_is_chief': True, '_num_ps_replicas': 0, '_num_worker_replicas': 1}\n",
      "INFO:tensorflow:Calling model_fn.\n",
      "INFO:tensorflow:Done calling model_fn.\n",
      "INFO:tensorflow:Create CheckpointSaverHook.\n",
      "INFO:tensorflow:Graph was finalized.\n",
      "INFO:tensorflow:Running local_init_op.\n",
      "INFO:tensorflow:Done running local_init_op.\n",
      "INFO:tensorflow:Saving checkpoints for 0 into ckpt/08_ulmfit_clf_experiment_10\\model.ckpt.\n",
      "INFO:tensorflow:loss = 3.028582, step = 1\n",
      "INFO:tensorflow:Saving checkpoints for 6 into ckpt/08_ulmfit_clf_experiment_10\\model.ckpt.\n",
      "INFO:tensorflow:Loss for final step: 3.186501.\n"
     ]
    },
    {
     "data": {
      "application/vnd.jupyter.widget-view+json": {
       "model_id": "d81ea5dac714412d8bd34000baea9b4a",
       "version_major": 2,
       "version_minor": 0
      },
      "text/plain": [
       "HBox(children=(IntProgress(value=1, bar_style='info', max=1), HTML(value='')))"
      ]
     },
     "metadata": {},
     "output_type": "display_data"
    },
    {
     "name": "stdout",
     "output_type": "stream",
     "text": [
      "INFO:tensorflow:Calling model_fn.\n",
      "INFO:tensorflow:Done calling model_fn.\n",
      "INFO:tensorflow:Graph was finalized.\n",
      "INFO:tensorflow:Restoring parameters from ckpt/08_ulmfit_clf_experiment_10\\model.ckpt-6\n",
      "INFO:tensorflow:Running local_init_op.\n",
      "INFO:tensorflow:Done running local_init_op.\n",
      "\n",
      "10 0.5430508031555936\n",
      "270 1\n",
      "INFO:tensorflow:Using config: {'_model_dir': 'ckpt/08_ulmfit_clf_experiment_15', '_tf_random_seed': 123, '_save_summary_steps': 5, '_save_checkpoints_steps': 1000, '_save_checkpoints_secs': None, '_session_config': allow_soft_placement: true\n",
      "graph_options {\n",
      "  rewrite_options {\n",
      "    meta_optimizer_iterations: ONE\n",
      "  }\n",
      "}\n",
      ", '_keep_checkpoint_max': 5, '_keep_checkpoint_every_n_hours': 10000, '_log_step_count_steps': 100, '_train_distribute': None, '_device_fn': None, '_protocol': None, '_eval_distribute': None, '_experimental_distribute': None, '_service': None, '_cluster_spec': <tensorflow.python.training.server_lib.ClusterSpec object at 0x000002738BBA5E80>, '_task_type': 'worker', '_task_id': 0, '_global_id_in_cluster': 0, '_master': '', '_evaluation_master': '', '_is_chief': True, '_num_ps_replicas': 0, '_num_worker_replicas': 1}\n",
      "INFO:tensorflow:Calling model_fn.\n",
      "INFO:tensorflow:Done calling model_fn.\n",
      "INFO:tensorflow:Create CheckpointSaverHook.\n",
      "INFO:tensorflow:Graph was finalized.\n",
      "INFO:tensorflow:Running local_init_op.\n",
      "INFO:tensorflow:Done running local_init_op.\n",
      "INFO:tensorflow:Saving checkpoints for 0 into ckpt/08_ulmfit_clf_experiment_15\\model.ckpt.\n",
      "INFO:tensorflow:loss = 3.1457543, step = 1\n",
      "INFO:tensorflow:Saving checkpoints for 9 into ckpt/08_ulmfit_clf_experiment_15\\model.ckpt.\n",
      "INFO:tensorflow:Loss for final step: 3.1208165.\n"
     ]
    },
    {
     "data": {
      "application/vnd.jupyter.widget-view+json": {
       "model_id": "d565ee45037c43a9a596caf1648d3895",
       "version_major": 2,
       "version_minor": 0
      },
      "text/plain": [
       "HBox(children=(IntProgress(value=1, bar_style='info', max=1), HTML(value='')))"
      ]
     },
     "metadata": {},
     "output_type": "display_data"
    },
    {
     "name": "stdout",
     "output_type": "stream",
     "text": [
      "INFO:tensorflow:Calling model_fn.\n",
      "INFO:tensorflow:Done calling model_fn.\n",
      "INFO:tensorflow:Graph was finalized.\n",
      "INFO:tensorflow:Restoring parameters from ckpt/08_ulmfit_clf_experiment_15\\model.ckpt-9\n",
      "INFO:tensorflow:Running local_init_op.\n",
      "INFO:tensorflow:Done running local_init_op.\n",
      "\n",
      "15 0.5776691714609996\n",
      "360 1\n",
      "INFO:tensorflow:Using config: {'_model_dir': 'ckpt/08_ulmfit_clf_experiment_20', '_tf_random_seed': 123, '_save_summary_steps': 5, '_save_checkpoints_steps': 1000, '_save_checkpoints_secs': None, '_session_config': allow_soft_placement: true\n",
      "graph_options {\n",
      "  rewrite_options {\n",
      "    meta_optimizer_iterations: ONE\n",
      "  }\n",
      "}\n",
      ", '_keep_checkpoint_max': 5, '_keep_checkpoint_every_n_hours': 10000, '_log_step_count_steps': 100, '_train_distribute': None, '_device_fn': None, '_protocol': None, '_eval_distribute': None, '_experimental_distribute': None, '_service': None, '_cluster_spec': <tensorflow.python.training.server_lib.ClusterSpec object at 0x0000027389830908>, '_task_type': 'worker', '_task_id': 0, '_global_id_in_cluster': 0, '_master': '', '_evaluation_master': '', '_is_chief': True, '_num_ps_replicas': 0, '_num_worker_replicas': 1}\n",
      "INFO:tensorflow:Calling model_fn.\n",
      "INFO:tensorflow:Done calling model_fn.\n",
      "INFO:tensorflow:Create CheckpointSaverHook.\n",
      "INFO:tensorflow:Graph was finalized.\n",
      "INFO:tensorflow:Running local_init_op.\n",
      "INFO:tensorflow:Done running local_init_op.\n",
      "INFO:tensorflow:Saving checkpoints for 0 into ckpt/08_ulmfit_clf_experiment_20\\model.ckpt.\n",
      "INFO:tensorflow:loss = 2.9237983, step = 1\n",
      "INFO:tensorflow:Saving checkpoints for 12 into ckpt/08_ulmfit_clf_experiment_20\\model.ckpt.\n",
      "INFO:tensorflow:Loss for final step: 2.9679213.\n"
     ]
    },
    {
     "data": {
      "application/vnd.jupyter.widget-view+json": {
       "model_id": "8d61493ac73e44f19348886b77b70283",
       "version_major": 2,
       "version_minor": 0
      },
      "text/plain": [
       "HBox(children=(IntProgress(value=1, bar_style='info', max=1), HTML(value='')))"
      ]
     },
     "metadata": {},
     "output_type": "display_data"
    },
    {
     "name": "stdout",
     "output_type": "stream",
     "text": [
      "INFO:tensorflow:Calling model_fn.\n",
      "INFO:tensorflow:Done calling model_fn.\n",
      "INFO:tensorflow:Graph was finalized.\n",
      "INFO:tensorflow:Restoring parameters from ckpt/08_ulmfit_clf_experiment_20\\model.ckpt-12\n",
      "INFO:tensorflow:Running local_init_op.\n",
      "INFO:tensorflow:Done running local_init_op.\n",
      "\n",
      "20 0.5887905211984994\n",
      "450 1\n",
      "INFO:tensorflow:Using config: {'_model_dir': 'ckpt/08_ulmfit_clf_experiment_25', '_tf_random_seed': 123, '_save_summary_steps': 5, '_save_checkpoints_steps': 1000, '_save_checkpoints_secs': None, '_session_config': allow_soft_placement: true\n",
      "graph_options {\n",
      "  rewrite_options {\n",
      "    meta_optimizer_iterations: ONE\n",
      "  }\n",
      "}\n",
      ", '_keep_checkpoint_max': 5, '_keep_checkpoint_every_n_hours': 10000, '_log_step_count_steps': 100, '_train_distribute': None, '_device_fn': None, '_protocol': None, '_eval_distribute': None, '_experimental_distribute': None, '_service': None, '_cluster_spec': <tensorflow.python.training.server_lib.ClusterSpec object at 0x000002738BE88E80>, '_task_type': 'worker', '_task_id': 0, '_global_id_in_cluster': 0, '_master': '', '_evaluation_master': '', '_is_chief': True, '_num_ps_replicas': 0, '_num_worker_replicas': 1}\n",
      "INFO:tensorflow:Calling model_fn.\n",
      "INFO:tensorflow:Done calling model_fn.\n",
      "INFO:tensorflow:Create CheckpointSaverHook.\n",
      "INFO:tensorflow:Graph was finalized.\n",
      "INFO:tensorflow:Running local_init_op.\n",
      "INFO:tensorflow:Done running local_init_op.\n",
      "INFO:tensorflow:Saving checkpoints for 0 into ckpt/08_ulmfit_clf_experiment_25\\model.ckpt.\n",
      "INFO:tensorflow:loss = 2.9860487, step = 1\n",
      "INFO:tensorflow:Saving checkpoints for 15 into ckpt/08_ulmfit_clf_experiment_25\\model.ckpt.\n",
      "INFO:tensorflow:Loss for final step: 2.807768.\n"
     ]
    },
    {
     "data": {
      "application/vnd.jupyter.widget-view+json": {
       "model_id": "16da1e327d644658a469f74209bd6bc5",
       "version_major": 2,
       "version_minor": 0
      },
      "text/plain": [
       "HBox(children=(IntProgress(value=1, bar_style='info', max=1), HTML(value='')))"
      ]
     },
     "metadata": {},
     "output_type": "display_data"
    },
    {
     "name": "stdout",
     "output_type": "stream",
     "text": [
      "INFO:tensorflow:Calling model_fn.\n",
      "INFO:tensorflow:Done calling model_fn.\n",
      "INFO:tensorflow:Graph was finalized.\n",
      "INFO:tensorflow:Restoring parameters from ckpt/08_ulmfit_clf_experiment_25\\model.ckpt-15\n",
      "INFO:tensorflow:Running local_init_op.\n",
      "INFO:tensorflow:Done running local_init_op.\n",
      "\n",
      "25 0.5996963356200764\n",
      "540 1\n",
      "INFO:tensorflow:Using config: {'_model_dir': 'ckpt/08_ulmfit_clf_experiment_30', '_tf_random_seed': 123, '_save_summary_steps': 5, '_save_checkpoints_steps': 1000, '_save_checkpoints_secs': None, '_session_config': allow_soft_placement: true\n",
      "graph_options {\n",
      "  rewrite_options {\n",
      "    meta_optimizer_iterations: ONE\n",
      "  }\n",
      "}\n",
      ", '_keep_checkpoint_max': 5, '_keep_checkpoint_every_n_hours': 10000, '_log_step_count_steps': 100, '_train_distribute': None, '_device_fn': None, '_protocol': None, '_eval_distribute': None, '_experimental_distribute': None, '_service': None, '_cluster_spec': <tensorflow.python.training.server_lib.ClusterSpec object at 0x000002738BAAA518>, '_task_type': 'worker', '_task_id': 0, '_global_id_in_cluster': 0, '_master': '', '_evaluation_master': '', '_is_chief': True, '_num_ps_replicas': 0, '_num_worker_replicas': 1}\n",
      "INFO:tensorflow:Calling model_fn.\n",
      "INFO:tensorflow:Done calling model_fn.\n",
      "INFO:tensorflow:Create CheckpointSaverHook.\n",
      "INFO:tensorflow:Graph was finalized.\n",
      "INFO:tensorflow:Running local_init_op.\n",
      "INFO:tensorflow:Done running local_init_op.\n",
      "INFO:tensorflow:Saving checkpoints for 0 into ckpt/08_ulmfit_clf_experiment_30\\model.ckpt.\n",
      "INFO:tensorflow:loss = 3.1468673, step = 1\n",
      "INFO:tensorflow:Saving checkpoints for 17 into ckpt/08_ulmfit_clf_experiment_30\\model.ckpt.\n",
      "INFO:tensorflow:Loss for final step: 3.0923622.\n"
     ]
    },
    {
     "data": {
      "application/vnd.jupyter.widget-view+json": {
       "model_id": "ba9ebc778a844c5b899a991e4991fbf4",
       "version_major": 2,
       "version_minor": 0
      },
      "text/plain": [
       "HBox(children=(IntProgress(value=1, bar_style='info', max=1), HTML(value='')))"
      ]
     },
     "metadata": {},
     "output_type": "display_data"
    },
    {
     "name": "stdout",
     "output_type": "stream",
     "text": [
      "INFO:tensorflow:Calling model_fn.\n",
      "INFO:tensorflow:Done calling model_fn.\n",
      "INFO:tensorflow:Graph was finalized.\n",
      "INFO:tensorflow:Restoring parameters from ckpt/08_ulmfit_clf_experiment_30\\model.ckpt-17\n",
      "INFO:tensorflow:Running local_init_op.\n",
      "INFO:tensorflow:Done running local_init_op.\n",
      "\n",
      "30 0.6228201859586151\n",
      "630 1\n",
      "INFO:tensorflow:Using config: {'_model_dir': 'ckpt/08_ulmfit_clf_experiment_35', '_tf_random_seed': 123, '_save_summary_steps': 5, '_save_checkpoints_steps': 1000, '_save_checkpoints_secs': None, '_session_config': allow_soft_placement: true\n",
      "graph_options {\n",
      "  rewrite_options {\n",
      "    meta_optimizer_iterations: ONE\n",
      "  }\n",
      "}\n",
      ", '_keep_checkpoint_max': 5, '_keep_checkpoint_every_n_hours': 10000, '_log_step_count_steps': 100, '_train_distribute': None, '_device_fn': None, '_protocol': None, '_eval_distribute': None, '_experimental_distribute': None, '_service': None, '_cluster_spec': <tensorflow.python.training.server_lib.ClusterSpec object at 0x000002738BD4C470>, '_task_type': 'worker', '_task_id': 0, '_global_id_in_cluster': 0, '_master': '', '_evaluation_master': '', '_is_chief': True, '_num_ps_replicas': 0, '_num_worker_replicas': 1}\n",
      "INFO:tensorflow:Calling model_fn.\n",
      "INFO:tensorflow:Done calling model_fn.\n",
      "INFO:tensorflow:Create CheckpointSaverHook.\n",
      "INFO:tensorflow:Graph was finalized.\n",
      "INFO:tensorflow:Running local_init_op.\n",
      "INFO:tensorflow:Done running local_init_op.\n",
      "INFO:tensorflow:Saving checkpoints for 0 into ckpt/08_ulmfit_clf_experiment_35\\model.ckpt.\n",
      "INFO:tensorflow:loss = 2.9557815, step = 1\n",
      "INFO:tensorflow:Saving checkpoints for 20 into ckpt/08_ulmfit_clf_experiment_35\\model.ckpt.\n",
      "INFO:tensorflow:Loss for final step: 2.8119705.\n"
     ]
    },
    {
     "data": {
      "application/vnd.jupyter.widget-view+json": {
       "model_id": "39bd98efd50640d5a0183b77f62ceb84",
       "version_major": 2,
       "version_minor": 0
      },
      "text/plain": [
       "HBox(children=(IntProgress(value=1, bar_style='info', max=1), HTML(value='')))"
      ]
     },
     "metadata": {},
     "output_type": "display_data"
    },
    {
     "name": "stdout",
     "output_type": "stream",
     "text": [
      "INFO:tensorflow:Calling model_fn.\n",
      "INFO:tensorflow:Done calling model_fn.\n",
      "INFO:tensorflow:Graph was finalized.\n",
      "INFO:tensorflow:Restoring parameters from ckpt/08_ulmfit_clf_experiment_35\\model.ckpt-20\n",
      "INFO:tensorflow:Running local_init_op.\n",
      "INFO:tensorflow:Done running local_init_op.\n",
      "\n",
      "35 0.6296274397982746\n",
      "720 1\n",
      "INFO:tensorflow:Using config: {'_model_dir': 'ckpt/08_ulmfit_clf_experiment_40', '_tf_random_seed': 123, '_save_summary_steps': 5, '_save_checkpoints_steps': 1000, '_save_checkpoints_secs': None, '_session_config': allow_soft_placement: true\n",
      "graph_options {\n",
      "  rewrite_options {\n",
      "    meta_optimizer_iterations: ONE\n",
      "  }\n",
      "}\n",
      ", '_keep_checkpoint_max': 5, '_keep_checkpoint_every_n_hours': 10000, '_log_step_count_steps': 100, '_train_distribute': None, '_device_fn': None, '_protocol': None, '_eval_distribute': None, '_experimental_distribute': None, '_service': None, '_cluster_spec': <tensorflow.python.training.server_lib.ClusterSpec object at 0x000002739F71BCF8>, '_task_type': 'worker', '_task_id': 0, '_global_id_in_cluster': 0, '_master': '', '_evaluation_master': '', '_is_chief': True, '_num_ps_replicas': 0, '_num_worker_replicas': 1}\n",
      "INFO:tensorflow:Calling model_fn.\n",
      "INFO:tensorflow:Done calling model_fn.\n",
      "INFO:tensorflow:Create CheckpointSaverHook.\n",
      "INFO:tensorflow:Graph was finalized.\n",
      "INFO:tensorflow:Running local_init_op.\n",
      "INFO:tensorflow:Done running local_init_op.\n",
      "INFO:tensorflow:Saving checkpoints for 0 into ckpt/08_ulmfit_clf_experiment_40\\model.ckpt.\n",
      "INFO:tensorflow:loss = 3.0079336, step = 1\n",
      "INFO:tensorflow:Saving checkpoints for 23 into ckpt/08_ulmfit_clf_experiment_40\\model.ckpt.\n",
      "INFO:tensorflow:Loss for final step: 3.0984461.\n"
     ]
    },
    {
     "data": {
      "application/vnd.jupyter.widget-view+json": {
       "model_id": "6a69e9c5994643269f058b2bc8a5fa6c",
       "version_major": 2,
       "version_minor": 0
      },
      "text/plain": [
       "HBox(children=(IntProgress(value=1, bar_style='info', max=1), HTML(value='')))"
      ]
     },
     "metadata": {},
     "output_type": "display_data"
    },
    {
     "name": "stdout",
     "output_type": "stream",
     "text": [
      "INFO:tensorflow:Calling model_fn.\n",
      "INFO:tensorflow:Done calling model_fn.\n",
      "INFO:tensorflow:Graph was finalized.\n",
      "INFO:tensorflow:Restoring parameters from ckpt/08_ulmfit_clf_experiment_40\\model.ckpt-23\n",
      "INFO:tensorflow:Running local_init_op.\n",
      "INFO:tensorflow:Done running local_init_op.\n",
      "\n",
      "40 0.6507504598645846\n",
      "810 1\n",
      "INFO:tensorflow:Using config: {'_model_dir': 'ckpt/08_ulmfit_clf_experiment_45', '_tf_random_seed': 123, '_save_summary_steps': 5, '_save_checkpoints_steps': 1000, '_save_checkpoints_secs': None, '_session_config': allow_soft_placement: true\n",
      "graph_options {\n",
      "  rewrite_options {\n",
      "    meta_optimizer_iterations: ONE\n",
      "  }\n",
      "}\n",
      ", '_keep_checkpoint_max': 5, '_keep_checkpoint_every_n_hours': 10000, '_log_step_count_steps': 100, '_train_distribute': None, '_device_fn': None, '_protocol': None, '_eval_distribute': None, '_experimental_distribute': None, '_service': None, '_cluster_spec': <tensorflow.python.training.server_lib.ClusterSpec object at 0x000002739F815278>, '_task_type': 'worker', '_task_id': 0, '_global_id_in_cluster': 0, '_master': '', '_evaluation_master': '', '_is_chief': True, '_num_ps_replicas': 0, '_num_worker_replicas': 1}\n",
      "INFO:tensorflow:Calling model_fn.\n",
      "INFO:tensorflow:Done calling model_fn.\n",
      "INFO:tensorflow:Create CheckpointSaverHook.\n",
      "INFO:tensorflow:Graph was finalized.\n",
      "INFO:tensorflow:Running local_init_op.\n",
      "INFO:tensorflow:Done running local_init_op.\n",
      "INFO:tensorflow:Saving checkpoints for 0 into ckpt/08_ulmfit_clf_experiment_45\\model.ckpt.\n",
      "INFO:tensorflow:loss = 3.028232, step = 1\n",
      "INFO:tensorflow:Saving checkpoints for 26 into ckpt/08_ulmfit_clf_experiment_45\\model.ckpt.\n",
      "INFO:tensorflow:Loss for final step: 3.163203.\n"
     ]
    },
    {
     "data": {
      "application/vnd.jupyter.widget-view+json": {
       "model_id": "c78fc9515c484361be00f397d055e2cf",
       "version_major": 2,
       "version_minor": 0
      },
      "text/plain": [
       "HBox(children=(IntProgress(value=1, bar_style='info', max=1), HTML(value='')))"
      ]
     },
     "metadata": {},
     "output_type": "display_data"
    },
    {
     "name": "stdout",
     "output_type": "stream",
     "text": [
      "INFO:tensorflow:Calling model_fn.\n",
      "INFO:tensorflow:Done calling model_fn.\n",
      "INFO:tensorflow:Graph was finalized.\n",
      "INFO:tensorflow:Restoring parameters from ckpt/08_ulmfit_clf_experiment_45\\model.ckpt-26\n",
      "INFO:tensorflow:Running local_init_op.\n",
      "INFO:tensorflow:Done running local_init_op.\n",
      "\n",
      "45 0.6549156588783218\n",
      "900 1\n",
      "INFO:tensorflow:Using config: {'_model_dir': 'ckpt/08_ulmfit_clf_experiment_50', '_tf_random_seed': 123, '_save_summary_steps': 5, '_save_checkpoints_steps': 1000, '_save_checkpoints_secs': None, '_session_config': allow_soft_placement: true\n",
      "graph_options {\n",
      "  rewrite_options {\n",
      "    meta_optimizer_iterations: ONE\n",
      "  }\n",
      "}\n",
      ", '_keep_checkpoint_max': 5, '_keep_checkpoint_every_n_hours': 10000, '_log_step_count_steps': 100, '_train_distribute': None, '_device_fn': None, '_protocol': None, '_eval_distribute': None, '_experimental_distribute': None, '_service': None, '_cluster_spec': <tensorflow.python.training.server_lib.ClusterSpec object at 0x000002739F61A2E8>, '_task_type': 'worker', '_task_id': 0, '_global_id_in_cluster': 0, '_master': '', '_evaluation_master': '', '_is_chief': True, '_num_ps_replicas': 0, '_num_worker_replicas': 1}\n",
      "INFO:tensorflow:Calling model_fn.\n",
      "INFO:tensorflow:Done calling model_fn.\n",
      "INFO:tensorflow:Create CheckpointSaverHook.\n",
      "INFO:tensorflow:Graph was finalized.\n",
      "INFO:tensorflow:Running local_init_op.\n",
      "INFO:tensorflow:Done running local_init_op.\n",
      "INFO:tensorflow:Saving checkpoints for 0 into ckpt/08_ulmfit_clf_experiment_50\\model.ckpt.\n",
      "INFO:tensorflow:loss = 3.089316, step = 1\n",
      "INFO:tensorflow:Saving checkpoints for 29 into ckpt/08_ulmfit_clf_experiment_50\\model.ckpt.\n",
      "INFO:tensorflow:Loss for final step: 2.9670646.\n"
     ]
    },
    {
     "data": {
      "application/vnd.jupyter.widget-view+json": {
       "model_id": "883e043f40f14993922bf93f0b29a791",
       "version_major": 2,
       "version_minor": 0
      },
      "text/plain": [
       "HBox(children=(IntProgress(value=1, bar_style='info', max=1), HTML(value='')))"
      ]
     },
     "metadata": {},
     "output_type": "display_data"
    },
    {
     "name": "stdout",
     "output_type": "stream",
     "text": [
      "INFO:tensorflow:Calling model_fn.\n",
      "INFO:tensorflow:Done calling model_fn.\n",
      "INFO:tensorflow:Graph was finalized.\n",
      "INFO:tensorflow:Restoring parameters from ckpt/08_ulmfit_clf_experiment_50\\model.ckpt-29\n",
      "INFO:tensorflow:Running local_init_op.\n",
      "INFO:tensorflow:Done running local_init_op.\n",
      "\n",
      "50 0.68659669456605\n",
      "990 1\n",
      "INFO:tensorflow:Using config: {'_model_dir': 'ckpt/08_ulmfit_clf_experiment_55', '_tf_random_seed': 123, '_save_summary_steps': 5, '_save_checkpoints_steps': 1000, '_save_checkpoints_secs': None, '_session_config': allow_soft_placement: true\n",
      "graph_options {\n",
      "  rewrite_options {\n",
      "    meta_optimizer_iterations: ONE\n",
      "  }\n",
      "}\n",
      ", '_keep_checkpoint_max': 5, '_keep_checkpoint_every_n_hours': 10000, '_log_step_count_steps': 100, '_train_distribute': None, '_device_fn': None, '_protocol': None, '_eval_distribute': None, '_experimental_distribute': None, '_service': None, '_cluster_spec': <tensorflow.python.training.server_lib.ClusterSpec object at 0x0000027389787F28>, '_task_type': 'worker', '_task_id': 0, '_global_id_in_cluster': 0, '_master': '', '_evaluation_master': '', '_is_chief': True, '_num_ps_replicas': 0, '_num_worker_replicas': 1}\n",
      "INFO:tensorflow:Calling model_fn.\n",
      "INFO:tensorflow:Done calling model_fn.\n",
      "INFO:tensorflow:Create CheckpointSaverHook.\n",
      "INFO:tensorflow:Graph was finalized.\n",
      "INFO:tensorflow:Running local_init_op.\n",
      "INFO:tensorflow:Done running local_init_op.\n",
      "INFO:tensorflow:Saving checkpoints for 0 into ckpt/08_ulmfit_clf_experiment_55\\model.ckpt.\n",
      "INFO:tensorflow:loss = 3.0831962, step = 1\n",
      "INFO:tensorflow:Saving checkpoints for 31 into ckpt/08_ulmfit_clf_experiment_55\\model.ckpt.\n",
      "INFO:tensorflow:Loss for final step: 2.9129193.\n"
     ]
    },
    {
     "data": {
      "application/vnd.jupyter.widget-view+json": {
       "model_id": "2bbbd756001c4d328fa996acf7e772d1",
       "version_major": 2,
       "version_minor": 0
      },
      "text/plain": [
       "HBox(children=(IntProgress(value=1, bar_style='info', max=1), HTML(value='')))"
      ]
     },
     "metadata": {},
     "output_type": "display_data"
    },
    {
     "name": "stdout",
     "output_type": "stream",
     "text": [
      "INFO:tensorflow:Calling model_fn.\n",
      "INFO:tensorflow:Done calling model_fn.\n",
      "INFO:tensorflow:Graph was finalized.\n",
      "INFO:tensorflow:Restoring parameters from ckpt/08_ulmfit_clf_experiment_55\\model.ckpt-31\n",
      "INFO:tensorflow:Running local_init_op.\n",
      "INFO:tensorflow:Done running local_init_op.\n",
      "\n",
      "55 0.6801281890001509\n",
      "1080 1\n",
      "INFO:tensorflow:Using config: {'_model_dir': 'ckpt/08_ulmfit_clf_experiment_60', '_tf_random_seed': 123, '_save_summary_steps': 5, '_save_checkpoints_steps': 1000, '_save_checkpoints_secs': None, '_session_config': allow_soft_placement: true\n",
      "graph_options {\n",
      "  rewrite_options {\n",
      "    meta_optimizer_iterations: ONE\n",
      "  }\n",
      "}\n",
      ", '_keep_checkpoint_max': 5, '_keep_checkpoint_every_n_hours': 10000, '_log_step_count_steps': 100, '_train_distribute': None, '_device_fn': None, '_protocol': None, '_eval_distribute': None, '_experimental_distribute': None, '_service': None, '_cluster_spec': <tensorflow.python.training.server_lib.ClusterSpec object at 0x00000273C791EA20>, '_task_type': 'worker', '_task_id': 0, '_global_id_in_cluster': 0, '_master': '', '_evaluation_master': '', '_is_chief': True, '_num_ps_replicas': 0, '_num_worker_replicas': 1}\n",
      "INFO:tensorflow:Calling model_fn.\n",
      "INFO:tensorflow:Done calling model_fn.\n",
      "INFO:tensorflow:Create CheckpointSaverHook.\n",
      "INFO:tensorflow:Graph was finalized.\n",
      "INFO:tensorflow:Running local_init_op.\n",
      "INFO:tensorflow:Done running local_init_op.\n",
      "INFO:tensorflow:Saving checkpoints for 0 into ckpt/08_ulmfit_clf_experiment_60\\model.ckpt.\n",
      "INFO:tensorflow:loss = 3.016018, step = 1\n",
      "INFO:tensorflow:Saving checkpoints for 34 into ckpt/08_ulmfit_clf_experiment_60\\model.ckpt.\n",
      "INFO:tensorflow:Loss for final step: 3.0464432.\n"
     ]
    },
    {
     "data": {
      "application/vnd.jupyter.widget-view+json": {
       "model_id": "738d4b66a10d4b6aa214aa84f8bec00e",
       "version_major": 2,
       "version_minor": 0
      },
      "text/plain": [
       "HBox(children=(IntProgress(value=1, bar_style='info', max=1), HTML(value='')))"
      ]
     },
     "metadata": {},
     "output_type": "display_data"
    },
    {
     "name": "stdout",
     "output_type": "stream",
     "text": [
      "INFO:tensorflow:Calling model_fn.\n",
      "INFO:tensorflow:Done calling model_fn.\n",
      "INFO:tensorflow:Graph was finalized.\n",
      "INFO:tensorflow:Restoring parameters from ckpt/08_ulmfit_clf_experiment_60\\model.ckpt-34\n",
      "INFO:tensorflow:Running local_init_op.\n",
      "INFO:tensorflow:Done running local_init_op.\n",
      "\n",
      "60 0.7176692133939404\n",
      "1170 1\n",
      "INFO:tensorflow:Using config: {'_model_dir': 'ckpt/08_ulmfit_clf_experiment_65', '_tf_random_seed': 123, '_save_summary_steps': 5, '_save_checkpoints_steps': 1000, '_save_checkpoints_secs': None, '_session_config': allow_soft_placement: true\n",
      "graph_options {\n",
      "  rewrite_options {\n",
      "    meta_optimizer_iterations: ONE\n",
      "  }\n",
      "}\n",
      ", '_keep_checkpoint_max': 5, '_keep_checkpoint_every_n_hours': 10000, '_log_step_count_steps': 100, '_train_distribute': None, '_device_fn': None, '_protocol': None, '_eval_distribute': None, '_experimental_distribute': None, '_service': None, '_cluster_spec': <tensorflow.python.training.server_lib.ClusterSpec object at 0x000002738BB688D0>, '_task_type': 'worker', '_task_id': 0, '_global_id_in_cluster': 0, '_master': '', '_evaluation_master': '', '_is_chief': True, '_num_ps_replicas': 0, '_num_worker_replicas': 1}\n",
      "INFO:tensorflow:Calling model_fn.\n",
      "INFO:tensorflow:Done calling model_fn.\n",
      "INFO:tensorflow:Create CheckpointSaverHook.\n",
      "INFO:tensorflow:Graph was finalized.\n",
      "INFO:tensorflow:Running local_init_op.\n",
      "INFO:tensorflow:Done running local_init_op.\n",
      "INFO:tensorflow:Saving checkpoints for 0 into ckpt/08_ulmfit_clf_experiment_65\\model.ckpt.\n",
      "INFO:tensorflow:loss = 3.115654, step = 1\n",
      "INFO:tensorflow:Saving checkpoints for 37 into ckpt/08_ulmfit_clf_experiment_65\\model.ckpt.\n",
      "INFO:tensorflow:Loss for final step: 2.880392.\n"
     ]
    },
    {
     "data": {
      "application/vnd.jupyter.widget-view+json": {
       "model_id": "2ae4bf7e4830496b8f725a3158e2dc60",
       "version_major": 2,
       "version_minor": 0
      },
      "text/plain": [
       "HBox(children=(IntProgress(value=1, bar_style='info', max=1), HTML(value='')))"
      ]
     },
     "metadata": {},
     "output_type": "display_data"
    },
    {
     "name": "stdout",
     "output_type": "stream",
     "text": [
      "INFO:tensorflow:Calling model_fn.\n",
      "INFO:tensorflow:Done calling model_fn.\n",
      "INFO:tensorflow:Graph was finalized.\n",
      "INFO:tensorflow:Restoring parameters from ckpt/08_ulmfit_clf_experiment_65\\model.ckpt-37\n",
      "INFO:tensorflow:Running local_init_op.\n",
      "INFO:tensorflow:Done running local_init_op.\n",
      "\n",
      "65 0.726053145809222\n",
      "1260 1\n",
      "INFO:tensorflow:Using config: {'_model_dir': 'ckpt/08_ulmfit_clf_experiment_70', '_tf_random_seed': 123, '_save_summary_steps': 5, '_save_checkpoints_steps': 1000, '_save_checkpoints_secs': None, '_session_config': allow_soft_placement: true\n",
      "graph_options {\n",
      "  rewrite_options {\n",
      "    meta_optimizer_iterations: ONE\n",
      "  }\n",
      "}\n",
      ", '_keep_checkpoint_max': 5, '_keep_checkpoint_every_n_hours': 10000, '_log_step_count_steps': 100, '_train_distribute': None, '_device_fn': None, '_protocol': None, '_eval_distribute': None, '_experimental_distribute': None, '_service': None, '_cluster_spec': <tensorflow.python.training.server_lib.ClusterSpec object at 0x0000027389AC4518>, '_task_type': 'worker', '_task_id': 0, '_global_id_in_cluster': 0, '_master': '', '_evaluation_master': '', '_is_chief': True, '_num_ps_replicas': 0, '_num_worker_replicas': 1}\n",
      "INFO:tensorflow:Calling model_fn.\n",
      "INFO:tensorflow:Done calling model_fn.\n",
      "INFO:tensorflow:Create CheckpointSaverHook.\n",
      "INFO:tensorflow:Graph was finalized.\n",
      "INFO:tensorflow:Running local_init_op.\n",
      "INFO:tensorflow:Done running local_init_op.\n",
      "INFO:tensorflow:Saving checkpoints for 0 into ckpt/08_ulmfit_clf_experiment_70\\model.ckpt.\n",
      "INFO:tensorflow:loss = 3.057164, step = 1\n",
      "INFO:tensorflow:Saving checkpoints for 40 into ckpt/08_ulmfit_clf_experiment_70\\model.ckpt.\n",
      "INFO:tensorflow:Loss for final step: 2.730645.\n"
     ]
    },
    {
     "data": {
      "application/vnd.jupyter.widget-view+json": {
       "model_id": "2b6c43d56ded481e9c998c6e34662a04",
       "version_major": 2,
       "version_minor": 0
      },
      "text/plain": [
       "HBox(children=(IntProgress(value=1, bar_style='info', max=1), HTML(value='')))"
      ]
     },
     "metadata": {},
     "output_type": "display_data"
    },
    {
     "name": "stdout",
     "output_type": "stream",
     "text": [
      "INFO:tensorflow:Calling model_fn.\n",
      "INFO:tensorflow:Done calling model_fn.\n",
      "INFO:tensorflow:Graph was finalized.\n",
      "INFO:tensorflow:Restoring parameters from ckpt/08_ulmfit_clf_experiment_70\\model.ckpt-40\n",
      "INFO:tensorflow:Running local_init_op.\n",
      "INFO:tensorflow:Done running local_init_op.\n",
      "\n",
      "70 0.7219322559363066\n",
      "1350 1\n",
      "INFO:tensorflow:Using config: {'_model_dir': 'ckpt/08_ulmfit_clf_experiment_75', '_tf_random_seed': 123, '_save_summary_steps': 5, '_save_checkpoints_steps': 1000, '_save_checkpoints_secs': None, '_session_config': allow_soft_placement: true\n",
      "graph_options {\n",
      "  rewrite_options {\n",
      "    meta_optimizer_iterations: ONE\n",
      "  }\n",
      "}\n",
      ", '_keep_checkpoint_max': 5, '_keep_checkpoint_every_n_hours': 10000, '_log_step_count_steps': 100, '_train_distribute': None, '_device_fn': None, '_protocol': None, '_eval_distribute': None, '_experimental_distribute': None, '_service': None, '_cluster_spec': <tensorflow.python.training.server_lib.ClusterSpec object at 0x000002738982CCF8>, '_task_type': 'worker', '_task_id': 0, '_global_id_in_cluster': 0, '_master': '', '_evaluation_master': '', '_is_chief': True, '_num_ps_replicas': 0, '_num_worker_replicas': 1}\n",
      "INFO:tensorflow:Calling model_fn.\n",
      "INFO:tensorflow:Done calling model_fn.\n",
      "INFO:tensorflow:Create CheckpointSaverHook.\n",
      "INFO:tensorflow:Graph was finalized.\n",
      "INFO:tensorflow:Running local_init_op.\n",
      "INFO:tensorflow:Done running local_init_op.\n",
      "INFO:tensorflow:Saving checkpoints for 0 into ckpt/08_ulmfit_clf_experiment_75\\model.ckpt.\n",
      "INFO:tensorflow:loss = 3.0847495, step = 1\n",
      "INFO:tensorflow:Saving checkpoints for 43 into ckpt/08_ulmfit_clf_experiment_75\\model.ckpt.\n",
      "INFO:tensorflow:Loss for final step: 3.244587.\n"
     ]
    },
    {
     "data": {
      "application/vnd.jupyter.widget-view+json": {
       "model_id": "6c0051bdc4f347eeaeebbc097b5fd43f",
       "version_major": 2,
       "version_minor": 0
      },
      "text/plain": [
       "HBox(children=(IntProgress(value=1, bar_style='info', max=1), HTML(value='')))"
      ]
     },
     "metadata": {},
     "output_type": "display_data"
    },
    {
     "name": "stdout",
     "output_type": "stream",
     "text": [
      "INFO:tensorflow:Calling model_fn.\n",
      "INFO:tensorflow:Done calling model_fn.\n",
      "INFO:tensorflow:Graph was finalized.\n",
      "INFO:tensorflow:Restoring parameters from ckpt/08_ulmfit_clf_experiment_75\\model.ckpt-43\n",
      "INFO:tensorflow:Running local_init_op.\n",
      "INFO:tensorflow:Done running local_init_op.\n",
      "\n",
      "75 0.7431063643022079\n",
      "1440 1\n",
      "INFO:tensorflow:Using config: {'_model_dir': 'ckpt/08_ulmfit_clf_experiment_80', '_tf_random_seed': 123, '_save_summary_steps': 5, '_save_checkpoints_steps': 1000, '_save_checkpoints_secs': None, '_session_config': allow_soft_placement: true\n",
      "graph_options {\n",
      "  rewrite_options {\n",
      "    meta_optimizer_iterations: ONE\n",
      "  }\n",
      "}\n",
      ", '_keep_checkpoint_max': 5, '_keep_checkpoint_every_n_hours': 10000, '_log_step_count_steps': 100, '_train_distribute': None, '_device_fn': None, '_protocol': None, '_eval_distribute': None, '_experimental_distribute': None, '_service': None, '_cluster_spec': <tensorflow.python.training.server_lib.ClusterSpec object at 0x00000273AB0A0A90>, '_task_type': 'worker', '_task_id': 0, '_global_id_in_cluster': 0, '_master': '', '_evaluation_master': '', '_is_chief': True, '_num_ps_replicas': 0, '_num_worker_replicas': 1}\n",
      "INFO:tensorflow:Calling model_fn.\n",
      "INFO:tensorflow:Done calling model_fn.\n",
      "INFO:tensorflow:Create CheckpointSaverHook.\n",
      "INFO:tensorflow:Graph was finalized.\n",
      "INFO:tensorflow:Running local_init_op.\n",
      "INFO:tensorflow:Done running local_init_op.\n",
      "INFO:tensorflow:Saving checkpoints for 0 into ckpt/08_ulmfit_clf_experiment_80\\model.ckpt.\n",
      "INFO:tensorflow:loss = 3.0661886, step = 1\n",
      "INFO:tensorflow:Saving checkpoints for 45 into ckpt/08_ulmfit_clf_experiment_80\\model.ckpt.\n",
      "INFO:tensorflow:Loss for final step: 2.9885378.\n"
     ]
    },
    {
     "data": {
      "application/vnd.jupyter.widget-view+json": {
       "model_id": "903443d3215a4026a675c8b180fb9349",
       "version_major": 2,
       "version_minor": 0
      },
      "text/plain": [
       "HBox(children=(IntProgress(value=1, bar_style='info', max=1), HTML(value='')))"
      ]
     },
     "metadata": {},
     "output_type": "display_data"
    },
    {
     "name": "stdout",
     "output_type": "stream",
     "text": [
      "INFO:tensorflow:Calling model_fn.\n",
      "INFO:tensorflow:Done calling model_fn.\n",
      "INFO:tensorflow:Graph was finalized.\n",
      "INFO:tensorflow:Restoring parameters from ckpt/08_ulmfit_clf_experiment_80\\model.ckpt-45\n",
      "INFO:tensorflow:Running local_init_op.\n",
      "INFO:tensorflow:Done running local_init_op.\n",
      "\n",
      "80 0.7409707895134101\n",
      "1530 1\n",
      "INFO:tensorflow:Using config: {'_model_dir': 'ckpt/08_ulmfit_clf_experiment_85', '_tf_random_seed': 123, '_save_summary_steps': 5, '_save_checkpoints_steps': 1000, '_save_checkpoints_secs': None, '_session_config': allow_soft_placement: true\n",
      "graph_options {\n",
      "  rewrite_options {\n",
      "    meta_optimizer_iterations: ONE\n",
      "  }\n",
      "}\n",
      ", '_keep_checkpoint_max': 5, '_keep_checkpoint_every_n_hours': 10000, '_log_step_count_steps': 100, '_train_distribute': None, '_device_fn': None, '_protocol': None, '_eval_distribute': None, '_experimental_distribute': None, '_service': None, '_cluster_spec': <tensorflow.python.training.server_lib.ClusterSpec object at 0x000002738BF7EB70>, '_task_type': 'worker', '_task_id': 0, '_global_id_in_cluster': 0, '_master': '', '_evaluation_master': '', '_is_chief': True, '_num_ps_replicas': 0, '_num_worker_replicas': 1}\n",
      "INFO:tensorflow:Calling model_fn.\n",
      "INFO:tensorflow:Done calling model_fn.\n",
      "INFO:tensorflow:Create CheckpointSaverHook.\n",
      "INFO:tensorflow:Graph was finalized.\n",
      "INFO:tensorflow:Running local_init_op.\n",
      "INFO:tensorflow:Done running local_init_op.\n",
      "INFO:tensorflow:Saving checkpoints for 0 into ckpt/08_ulmfit_clf_experiment_85\\model.ckpt.\n",
      "INFO:tensorflow:loss = 3.1079445, step = 1\n",
      "INFO:tensorflow:Saving checkpoints for 48 into ckpt/08_ulmfit_clf_experiment_85\\model.ckpt.\n",
      "INFO:tensorflow:Loss for final step: 2.929778.\n"
     ]
    },
    {
     "data": {
      "application/vnd.jupyter.widget-view+json": {
       "model_id": "4ec11285552648f2aa2ce0e633857f78",
       "version_major": 2,
       "version_minor": 0
      },
      "text/plain": [
       "HBox(children=(IntProgress(value=1, bar_style='info', max=1), HTML(value='')))"
      ]
     },
     "metadata": {},
     "output_type": "display_data"
    },
    {
     "name": "stdout",
     "output_type": "stream",
     "text": [
      "INFO:tensorflow:Calling model_fn.\n",
      "INFO:tensorflow:Done calling model_fn.\n",
      "INFO:tensorflow:Graph was finalized.\n",
      "INFO:tensorflow:Restoring parameters from ckpt/08_ulmfit_clf_experiment_85\\model.ckpt-48\n",
      "INFO:tensorflow:Running local_init_op.\n",
      "INFO:tensorflow:Done running local_init_op.\n",
      "\n",
      "85 0.7486886870516671\n",
      "1620 1\n",
      "INFO:tensorflow:Using config: {'_model_dir': 'ckpt/08_ulmfit_clf_experiment_90', '_tf_random_seed': 123, '_save_summary_steps': 5, '_save_checkpoints_steps': 1000, '_save_checkpoints_secs': None, '_session_config': allow_soft_placement: true\n",
      "graph_options {\n",
      "  rewrite_options {\n",
      "    meta_optimizer_iterations: ONE\n",
      "  }\n",
      "}\n",
      ", '_keep_checkpoint_max': 5, '_keep_checkpoint_every_n_hours': 10000, '_log_step_count_steps': 100, '_train_distribute': None, '_device_fn': None, '_protocol': None, '_eval_distribute': None, '_experimental_distribute': None, '_service': None, '_cluster_spec': <tensorflow.python.training.server_lib.ClusterSpec object at 0x000002739F9DCF60>, '_task_type': 'worker', '_task_id': 0, '_global_id_in_cluster': 0, '_master': '', '_evaluation_master': '', '_is_chief': True, '_num_ps_replicas': 0, '_num_worker_replicas': 1}\n",
      "INFO:tensorflow:Calling model_fn.\n",
      "INFO:tensorflow:Done calling model_fn.\n",
      "INFO:tensorflow:Create CheckpointSaverHook.\n",
      "INFO:tensorflow:Graph was finalized.\n",
      "INFO:tensorflow:Running local_init_op.\n",
      "INFO:tensorflow:Done running local_init_op.\n",
      "INFO:tensorflow:Saving checkpoints for 0 into ckpt/08_ulmfit_clf_experiment_90\\model.ckpt.\n",
      "INFO:tensorflow:loss = 2.9354439, step = 1\n",
      "INFO:tensorflow:Saving checkpoints for 51 into ckpt/08_ulmfit_clf_experiment_90\\model.ckpt.\n",
      "INFO:tensorflow:Loss for final step: 2.87127.\n"
     ]
    },
    {
     "data": {
      "application/vnd.jupyter.widget-view+json": {
       "model_id": "8f52b383db65420b8f866b49bb6a186e",
       "version_major": 2,
       "version_minor": 0
      },
      "text/plain": [
       "HBox(children=(IntProgress(value=1, bar_style='info', max=1), HTML(value='')))"
      ]
     },
     "metadata": {},
     "output_type": "display_data"
    },
    {
     "name": "stdout",
     "output_type": "stream",
     "text": [
      "INFO:tensorflow:Calling model_fn.\n",
      "INFO:tensorflow:Done calling model_fn.\n",
      "INFO:tensorflow:Graph was finalized.\n",
      "INFO:tensorflow:Restoring parameters from ckpt/08_ulmfit_clf_experiment_90\\model.ckpt-51\n",
      "INFO:tensorflow:Running local_init_op.\n",
      "INFO:tensorflow:Done running local_init_op.\n",
      "\n",
      "90 0.7655049145406666\n",
      "1710 1\n",
      "INFO:tensorflow:Using config: {'_model_dir': 'ckpt/08_ulmfit_clf_experiment_95', '_tf_random_seed': 123, '_save_summary_steps': 5, '_save_checkpoints_steps': 1000, '_save_checkpoints_secs': None, '_session_config': allow_soft_placement: true\n",
      "graph_options {\n",
      "  rewrite_options {\n",
      "    meta_optimizer_iterations: ONE\n",
      "  }\n",
      "}\n",
      ", '_keep_checkpoint_max': 5, '_keep_checkpoint_every_n_hours': 10000, '_log_step_count_steps': 100, '_train_distribute': None, '_device_fn': None, '_protocol': None, '_eval_distribute': None, '_experimental_distribute': None, '_service': None, '_cluster_spec': <tensorflow.python.training.server_lib.ClusterSpec object at 0x000002738BE32CC0>, '_task_type': 'worker', '_task_id': 0, '_global_id_in_cluster': 0, '_master': '', '_evaluation_master': '', '_is_chief': True, '_num_ps_replicas': 0, '_num_worker_replicas': 1}\n",
      "INFO:tensorflow:Calling model_fn.\n",
      "INFO:tensorflow:Done calling model_fn.\n",
      "INFO:tensorflow:Create CheckpointSaverHook.\n",
      "INFO:tensorflow:Graph was finalized.\n",
      "INFO:tensorflow:Running local_init_op.\n",
      "INFO:tensorflow:Done running local_init_op.\n",
      "INFO:tensorflow:Saving checkpoints for 0 into ckpt/08_ulmfit_clf_experiment_95\\model.ckpt.\n",
      "INFO:tensorflow:loss = 2.9573936, step = 1\n",
      "INFO:tensorflow:Saving checkpoints for 54 into ckpt/08_ulmfit_clf_experiment_95\\model.ckpt.\n",
      "INFO:tensorflow:Loss for final step: 2.6611803.\n"
     ]
    },
    {
     "data": {
      "application/vnd.jupyter.widget-view+json": {
       "model_id": "a0d42fef94bc4b928441218563d92762",
       "version_major": 2,
       "version_minor": 0
      },
      "text/plain": [
       "HBox(children=(IntProgress(value=1, bar_style='info', max=1), HTML(value='')))"
      ]
     },
     "metadata": {},
     "output_type": "display_data"
    },
    {
     "name": "stdout",
     "output_type": "stream",
     "text": [
      "INFO:tensorflow:Calling model_fn.\n",
      "INFO:tensorflow:Done calling model_fn.\n",
      "INFO:tensorflow:Graph was finalized.\n",
      "INFO:tensorflow:Restoring parameters from ckpt/08_ulmfit_clf_experiment_95\\model.ckpt-54\n",
      "INFO:tensorflow:Running local_init_op.\n",
      "INFO:tensorflow:Done running local_init_op.\n",
      "\n",
      "95 0.7769288453904516\n",
      "1800 1\n",
      "INFO:tensorflow:Using config: {'_model_dir': 'ckpt/08_ulmfit_clf_experiment_100', '_tf_random_seed': 123, '_save_summary_steps': 5, '_save_checkpoints_steps': 1000, '_save_checkpoints_secs': None, '_session_config': allow_soft_placement: true\n",
      "graph_options {\n",
      "  rewrite_options {\n",
      "    meta_optimizer_iterations: ONE\n",
      "  }\n",
      "}\n",
      ", '_keep_checkpoint_max': 5, '_keep_checkpoint_every_n_hours': 10000, '_log_step_count_steps': 100, '_train_distribute': None, '_device_fn': None, '_protocol': None, '_eval_distribute': None, '_experimental_distribute': None, '_service': None, '_cluster_spec': <tensorflow.python.training.server_lib.ClusterSpec object at 0x00000273C7B8F390>, '_task_type': 'worker', '_task_id': 0, '_global_id_in_cluster': 0, '_master': '', '_evaluation_master': '', '_is_chief': True, '_num_ps_replicas': 0, '_num_worker_replicas': 1}\n",
      "INFO:tensorflow:Calling model_fn.\n",
      "INFO:tensorflow:Done calling model_fn.\n",
      "INFO:tensorflow:Create CheckpointSaverHook.\n",
      "INFO:tensorflow:Graph was finalized.\n",
      "INFO:tensorflow:Running local_init_op.\n",
      "INFO:tensorflow:Done running local_init_op.\n",
      "INFO:tensorflow:Saving checkpoints for 0 into ckpt/08_ulmfit_clf_experiment_100\\model.ckpt.\n",
      "INFO:tensorflow:loss = 3.1672454, step = 1\n",
      "INFO:tensorflow:Saving checkpoints for 57 into ckpt/08_ulmfit_clf_experiment_100\\model.ckpt.\n",
      "INFO:tensorflow:Loss for final step: 2.6847343.\n"
     ]
    },
    {
     "data": {
      "application/vnd.jupyter.widget-view+json": {
       "model_id": "c51fd986be114853b7775c9887af8a6c",
       "version_major": 2,
       "version_minor": 0
      },
      "text/plain": [
       "HBox(children=(IntProgress(value=1, bar_style='info', max=1), HTML(value='')))"
      ]
     },
     "metadata": {},
     "output_type": "display_data"
    },
    {
     "name": "stdout",
     "output_type": "stream",
     "text": [
      "INFO:tensorflow:Calling model_fn.\n",
      "INFO:tensorflow:Done calling model_fn.\n",
      "INFO:tensorflow:Graph was finalized.\n",
      "INFO:tensorflow:Restoring parameters from ckpt/08_ulmfit_clf_experiment_100\\model.ckpt-57\n",
      "INFO:tensorflow:Running local_init_op.\n",
      "INFO:tensorflow:Done running local_init_op.\n",
      "\n",
      "100 0.7832343017047139\n"
     ]
    }
   ],
   "source": [
    "aucs = []\n",
    "for c_samples in range(5, 101, 5):\n",
    "# c_samples = 100\n",
    "    bs = 32\n",
    "    ep = 1\n",
    "    model_params = {\n",
    "        'vocab_size': VOCAB_SIZE,\n",
    "        'emb_size': 100,\n",
    "        'batch_size': bs,\n",
    "        'num_epochs': ep,\n",
    "        'max_step': ep*(c_samples*len(topics))//bs,\n",
    "        'num_classes': len(topics)\n",
    "    }\n",
    "\n",
    "    model_params['do_transferlearning'] = True \n",
    "    model_params['trainable_emb'] = True\n",
    "\n",
    "    df_train = get_data(c_samples,label_col='topic', labels=tuple(topics))\n",
    "\n",
    "    #     model_params['num_epochs'] = int(model_params['num_epochs']* (1 - c_samples/max_c_samples)) + 1\n",
    "    print(len(df_train), model_params['num_epochs'])\n",
    "\n",
    "    model_params['buffer_size'] = len(df_train)\n",
    "    estimator = get_estimator(c_samples)\n",
    "    estimator.train(input_fn=lambda: input_fn(df_train, model_params, True))\n",
    "\n",
    "    # eval\n",
    "    df_test = get_data(c_samples, mode='test', label_col='topic', labels=tuple(topics))\n",
    "\n",
    "    y_pred = estimator.predict(input_fn=lambda: input_fn(df_test, model_params, False))\n",
    "    y_pred = [_ for _ in tqdm(y_pred)]\n",
    "\n",
    "    auc = mean_roc_auc(df_test['topic'].map(lambda x: topics.index(x)), [_['probas'] for _ in y_pred],\n",
    "                      class_list=tuple(topics))\n",
    "    print(c_samples, auc)\n",
    "    aucs.append(auc)"
   ]
  },
  {
   "cell_type": "code",
   "execution_count": 21,
   "metadata": {},
   "outputs": [
    {
     "data": {
      "application/vnd.jupyter.widget-view+json": {
       "model_id": "2f52131e459942d886fa33b9cf096fd1",
       "version_major": 2,
       "version_minor": 0
      },
      "text/plain": [
       "HBox(children=(IntProgress(value=1, bar_style='info', max=1), HTML(value='')))"
      ]
     },
     "metadata": {},
     "output_type": "display_data"
    },
    {
     "name": "stdout",
     "output_type": "stream",
     "text": [
      "INFO:tensorflow:Calling model_fn.\n",
      "INFO:tensorflow:Done calling model_fn.\n",
      "INFO:tensorflow:Graph was finalized.\n",
      "INFO:tensorflow:Restoring parameters from ckpt/11_clf_experiment_100\\model.ckpt-10000\n",
      "INFO:tensorflow:Running local_init_op.\n",
      "INFO:tensorflow:Done running local_init_op.\n",
      "\n"
     ]
    },
    {
     "data": {
      "text/plain": [
       "0.9469199346405228"
      ]
     },
     "execution_count": 21,
     "metadata": {},
     "output_type": "execute_result"
    }
   ],
   "source": [
    "df_test = get_data(0, mode='half_test', label_col='topic', labels=tuple(topics))\n",
    "\n",
    "y_pred = estimator.predict(input_fn=lambda: input_fn(df_test, model_params, False))\n",
    "y_pred = [_ for _ in tqdm(y_pred)]\n",
    "\n",
    "mean_roc_auc(df_test['topic'].map(lambda x: topics.index(x)), [_['probas'] for _ in y_pred],\n",
    "            class_list=tuple(topics))\n"
   ]
  },
  {
   "cell_type": "code",
   "execution_count": 19,
   "metadata": {},
   "outputs": [
    {
     "data": {
      "image/png": "[encoded data removed]",
      "text/plain": [
       "<Figure size 432x288 with 1 Axes>"
      ]
     },
     "metadata": {
      "needs_background": "light"
     },
     "output_type": "display_data"
    }
   ],
   "source": [
    "scr_aucs =  [0.5724317122058405, 0.6070560908994337,0.6299123042430544,0.6705657662266504,0.6818705026920948,0.715760356038623,0.6883202782110849,\n",
    " 0.6883007095053589,0.6484353422007526,0.6825647724159524,0.6865449073841114,0.6958691859977524,0.6344690171477773,0.693003768373617,0.7054034438126549,\n",
    " 0.6960583035609453,0.6948188357179199,0.7255667935837009,0.7036803144411458,0.7143219862795417]\n",
    "plt.plot(list(range(50,101, 5)), scr_aucs[9:], 'b-', label='from scratch')\n",
    "\n",
    "plt.plot(list(range(50,101, 5)), aucs[9:], 'r-', label='ULMFIT')\n",
    "plt.legend(loc='upper left', shadow=True, fontsize='x-large')\n",
    "plt.xlabel('число примеро на класс в обучении')\n",
    "plt.ylabel('средний roc_auc')\n",
    "plt.show()"
   ]
  },
  {
   "cell_type": "code",
   "execution_count": 14,
   "metadata": {},
   "outputs": [
    {
     "data": {
      "text/plain": [
       "[0.5156459489983617,\n",
       " 0.5430508031555936,\n",
       " 0.5776691714609996,\n",
       " 0.5887905211984994,\n",
       " 0.5996963356200764,\n",
       " 0.6228201859586151,\n",
       " 0.6296274397982746,\n",
       " 0.6507504598645846,\n",
       " 0.6549156588783218,\n",
       " 0.68659669456605,\n",
       " 0.6801281890001509,\n",
       " 0.7176692133939404,\n",
       " 0.726053145809222,\n",
       " 0.7219322559363066,\n",
       " 0.7431063643022079,\n",
       " 0.7409707895134101,\n",
       " 0.7486886870516671,\n",
       " 0.7655049145406666,\n",
       " 0.7769288453904516,\n",
       " 0.7832343017047139]"
      ]
     },
     "execution_count": 14,
     "metadata": {},
     "output_type": "execute_result"
    }
   ],
   "source": [
    "aucs"
   ]
  },
  {
   "cell_type": "code",
   "execution_count": null,
   "metadata": {},
   "outputs": [],
   "source": []
  }
 ],
 "metadata": {
  "kernelspec": {
   "display_name": "Python 3",
   "language": "python",
   "name": "python3"
  },
  "language_info": {
   "codemirror_mode": {
    "name": "ipython",
    "version": 3
   },
   "file_extension": ".py",
   "mimetype": "text/x-python",
   "name": "python",
   "nbconvert_exporter": "python",
   "pygments_lexer": "ipython3",
   "version": "3.7.3"
  }
 },
 "nbformat": 4,
 "nbformat_minor": 2
}
